{
 "cells": [
  {
   "cell_type": "code",
   "execution_count": 1,
   "id": "d5ba8250",
   "metadata": {},
   "outputs": [],
   "source": [
    "# import OpenCV library\n",
    "import cv2"
   ]
  },
  {
   "cell_type": "code",
   "execution_count": 2,
   "id": "38e1553d",
   "metadata": {},
   "outputs": [
    {
     "name": "stdout",
     "output_type": "stream",
     "text": [
      "(472, 708, 3)\n"
     ]
    }
   ],
   "source": [
    "# Enter the image\n",
    "img = cv2.imread('Nature.jpg')\n",
    "\n",
    "# Get shape of the image\n",
    "print(img.shape)"
   ]
  },
  {
   "cell_type": "code",
   "execution_count": 3,
   "id": "f59e7f54",
   "metadata": {},
   "outputs": [
    {
     "name": "stdout",
     "output_type": "stream",
     "text": [
      "(200, 708, 3)\n"
     ]
    }
   ],
   "source": [
    "# The size of the image that we want to resize\n",
    "size = (img.shape[1],200)\n",
    "output = cv2.resize(img , size , interpolation = cv2.INTER_AREA)\n",
    "\n",
    "cv2.imshow('My_Pic', output)\n",
    "cv2.waitKey(0)\n",
    "cv2.destroyAllWindows()\n",
    "print(output.shape)"
   ]
  }
 ],
 "metadata": {
  "kernelspec": {
   "display_name": "Python 3 (ipykernel)",
   "language": "python",
   "name": "python3"
  },
  "language_info": {
   "codemirror_mode": {
    "name": "ipython",
    "version": 3
   },
   "file_extension": ".py",
   "mimetype": "text/x-python",
   "name": "python",
   "nbconvert_exporter": "python",
   "pygments_lexer": "ipython3",
   "version": "3.10.9"
  }
 },
 "nbformat": 4,
 "nbformat_minor": 5
}
