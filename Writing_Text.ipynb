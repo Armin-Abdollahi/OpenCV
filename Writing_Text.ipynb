{
 "cells": [
  {
   "cell_type": "code",
   "execution_count": 1,
   "id": "ce1380dc",
   "metadata": {},
   "outputs": [],
   "source": [
    "# import OpenCV library\n",
    "import cv2"
   ]
  },
  {
   "cell_type": "code",
   "execution_count": 2,
   "id": "64ecf861",
   "metadata": {},
   "outputs": [],
   "source": [
    "# Enter the image\n",
    "img = cv2.imread('White_Pic.jpg')"
   ]
  },
  {
   "cell_type": "code",
   "execution_count": 3,
   "id": "8af66b7b",
   "metadata": {},
   "outputs": [
    {
     "name": "stdout",
     "output_type": "stream",
     "text": [
      "(500, 850, 3)\n"
     ]
    }
   ],
   "source": [
    "# Get the shape of the image\n",
    "print(img.shape)"
   ]
  },
  {
   "cell_type": "code",
   "execution_count": 4,
   "id": "b610017d",
   "metadata": {},
   "outputs": [],
   "source": [
    "# cv2.FONT_(style)\n",
    "font_1 = cv2.FONT_HERSHEY_SCRIPT_COMPLEX\n",
    "font_2 = cv2.FONT_HERSHEY_COMPLEX\n",
    "font_3 = cv2.FONT_ITALIC\n",
    "\n",
    "# cv2.putText(image , 'text' , (location) , font , font size , (color) , thickness , line type)\n",
    "img = cv2.putText(img , 'Hi' , (183,125) , font_1 , 2 , (255,0,0) , 2 )\n",
    "img = cv2.putText(img , 'My name is:' , (308,250) , font_2 , 1 , (10,180,100) , 2 )\n",
    "img = cv2.putText(img , 'Armin Abdollahi' , (467,375) , font_3 , 1 , (189,159,20) , 2 )\n",
    "\n",
    "cv2.imshow('Text' , img)\n",
    "cv2.waitKey(0)\n",
    "cv2.destroyAllWindows()"
   ]
  }
 ],
 "metadata": {
  "kernelspec": {
   "display_name": "Python 3 (ipykernel)",
   "language": "python",
   "name": "python3"
  },
  "language_info": {
   "codemirror_mode": {
    "name": "ipython",
    "version": 3
   },
   "file_extension": ".py",
   "mimetype": "text/x-python",
   "name": "python",
   "nbconvert_exporter": "python",
   "pygments_lexer": "ipython3",
   "version": "3.10.9"
  }
 },
 "nbformat": 4,
 "nbformat_minor": 5
}
