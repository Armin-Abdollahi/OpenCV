{
 "cells": [
  {
   "cell_type": "code",
   "execution_count": 1,
   "id": "5959b224",
   "metadata": {},
   "outputs": [],
   "source": [
    "# import OpenCV library\n",
    "import cv2"
   ]
  },
  {
   "cell_type": "code",
   "execution_count": 2,
   "id": "b574db9a",
   "metadata": {},
   "outputs": [
    {
     "name": "stdout",
     "output_type": "stream",
     "text": [
      "4.7.0\n"
     ]
    }
   ],
   "source": [
    "# Checking the library version\n",
    "print(cv2.__version__)"
   ]
  },
  {
   "cell_type": "code",
   "execution_count": 3,
   "id": "89d372b7",
   "metadata": {},
   "outputs": [],
   "source": [
    "# Enter the image\n",
    "img = cv2.imread('White_Pic.jpg')"
   ]
  },
  {
   "cell_type": "code",
   "execution_count": 4,
   "id": "ffa4f2f3",
   "metadata": {},
   "outputs": [
    {
     "name": "stdout",
     "output_type": "stream",
     "text": [
      "(500, 850, 3)\n"
     ]
    }
   ],
   "source": [
    "# Get the shape of the image\n",
    "print(img.shape)"
   ]
  },
  {
   "cell_type": "code",
   "execution_count": 5,
   "id": "6c67a6dc",
   "metadata": {},
   "outputs": [],
   "source": [
    "# cv2.line(image , Strat point , End point , color , thickness)\n",
    "img = cv2.line(img , (0,0) , (0,500) , (255,0,0) , 2)\n",
    "img = cv2.line(img , (0,500) , (283,0) , (255,0,0) , 2)\n",
    "img = cv2.line(img , (283,0) , (283,500) , (255,0,0) , 2)\n",
    "img = cv2.line(img , (283,500) , (566,0) , (255,0,0) , 2)\n",
    "img = cv2.line(img , (566,0) , (566,500) , (255,0,0) , 2)\n",
    "img = cv2.line(img , (566,500) , (850,0) , (255,0,0) , 2)\n",
    "img = cv2.line(img , (850,0) , (850,500) , (255,0,0) , 3)\n",
    "cv2.imshow('Line' , img)\n",
    "cv2.waitKey(0)\n",
    "cv2.destroyAllWindows()"
   ]
  }
 ],
 "metadata": {
  "kernelspec": {
   "display_name": "Python 3 (ipykernel)",
   "language": "python",
   "name": "python3"
  },
  "language_info": {
   "codemirror_mode": {
    "name": "ipython",
    "version": 3
   },
   "file_extension": ".py",
   "mimetype": "text/x-python",
   "name": "python",
   "nbconvert_exporter": "python",
   "pygments_lexer": "ipython3",
   "version": "3.10.9"
  }
 },
 "nbformat": 4,
 "nbformat_minor": 5
}
