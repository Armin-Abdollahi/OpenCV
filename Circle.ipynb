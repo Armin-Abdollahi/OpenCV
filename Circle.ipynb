{
 "cells": [
  {
   "cell_type": "code",
   "execution_count": 1,
   "id": "203e153c",
   "metadata": {},
   "outputs": [],
   "source": [
    "# import OpenCV library\n",
    "import cv2"
   ]
  },
  {
   "cell_type": "code",
   "execution_count": 2,
   "id": "7902e4ed",
   "metadata": {},
   "outputs": [],
   "source": [
    "# Enter the image\n",
    "img = cv2.imread('White_Pic.jpg')"
   ]
  },
  {
   "cell_type": "code",
   "execution_count": 3,
   "id": "ee782a3d",
   "metadata": {},
   "outputs": [
    {
     "name": "stdout",
     "output_type": "stream",
     "text": [
      "(500, 850, 3)\n"
     ]
    }
   ],
   "source": [
    "# Get the shape of the image\n",
    "print(img.shape)"
   ]
  },
  {
   "cell_type": "code",
   "execution_count": 4,
   "id": "f54d0329",
   "metadata": {},
   "outputs": [],
   "source": [
    "# cv2.circle(image , center , radius , color , thickness)\n",
    "img = cv2.circle(img , (200,250) , 100 , (0,255,0) , 3)\n",
    "img = cv2.circle(img , (350,250) , 100 , (0,255,0) , 3)\n",
    "img = cv2.circle(img , (500,250) , 100 , (0,255,0) , 3)\n",
    "img = cv2.circle(img , (650,250) , 100 , (0,255,0) , 3)\n",
    "cv2.imshow('Circle' , img)\n",
    "cv2.waitKey(0)\n",
    "cv2.destroyAllWindows()"
   ]
  }
 ],
 "metadata": {
  "kernelspec": {
   "display_name": "Python 3 (ipykernel)",
   "language": "python",
   "name": "python3"
  },
  "language_info": {
   "codemirror_mode": {
    "name": "ipython",
    "version": 3
   },
   "file_extension": ".py",
   "mimetype": "text/x-python",
   "name": "python",
   "nbconvert_exporter": "python",
   "pygments_lexer": "ipython3",
   "version": "3.10.9"
  }
 },
 "nbformat": 4,
 "nbformat_minor": 5
}
