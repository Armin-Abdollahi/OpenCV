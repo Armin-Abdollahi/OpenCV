{
 "cells": [
  {
   "cell_type": "code",
   "execution_count": 1,
   "id": "00287493",
   "metadata": {},
   "outputs": [],
   "source": [
    "# import OpenCV library\n",
    "import cv2"
   ]
  },
  {
   "cell_type": "code",
   "execution_count": 2,
   "id": "6873cf1c",
   "metadata": {},
   "outputs": [
    {
     "name": "stdout",
     "output_type": "stream",
     "text": [
      "(472, 708, 3)\n"
     ]
    }
   ],
   "source": [
    "# Enter the image\n",
    "img = cv2.imread('Nature.jpg')\n",
    "\n",
    "# Get shape of the image\n",
    "print(img.shape)"
   ]
  },
  {
   "cell_type": "code",
   "execution_count": 3,
   "id": "f08cf519",
   "metadata": {},
   "outputs": [],
   "source": [
    "# Cropping the image\n",
    "img = img[0:354 , 0:236]\n",
    "\n",
    "cv2.imshow('My_Pic',img)\n",
    "cv2.waitKey(0)\n",
    "cv2.destroyAllWindows()"
   ]
  }
 ],
 "metadata": {
  "kernelspec": {
   "display_name": "Python 3 (ipykernel)",
   "language": "python",
   "name": "python3"
  },
  "language_info": {
   "codemirror_mode": {
    "name": "ipython",
    "version": 3
   },
   "file_extension": ".py",
   "mimetype": "text/x-python",
   "name": "python",
   "nbconvert_exporter": "python",
   "pygments_lexer": "ipython3",
   "version": "3.10.9"
  }
 },
 "nbformat": 4,
 "nbformat_minor": 5
}
